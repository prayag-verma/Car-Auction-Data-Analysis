{
  "cells": [
    {
      "cell_type": "markdown",
      "metadata": {},
      "source": [
        "## **Prayag Verma**\n",
        "#### `Linkedin` → https://www.linkedin.com/in/prayagv/\n",
        "#### ***The University Of Texas at Dallas***"
      ]
    },
    {
      "cell_type": "markdown",
      "metadata": {
        "id": "QmkUBfJD5b1D"
      },
      "source": [
        "#### ***MIS 6382 Object Oriented Programming In Python***\n",
        "\n",
        "#### **`   Project →  🚗 Car Auction Data Analysis   `**\n",
        "> ### **Introduction**\n",
        "\n",
        "**Dataset file:** Carpkl638250104.dat\n",
        "\n",
        "**Data Types:**\n",
        "   - Temporal: date (datetime)\n",
        "   - Categorical: model, company, type (Electric/non-Electric)\n",
        "   \n",
        "**Numerical:**\n",
        "   - Discrete: rating (1-5 scale)\n",
        "   - Continuous: price (USD), mileage\n",
        "\n",
        "**Identifier:** unique_id"
      ]
    },
    {
      "cell_type": "markdown",
      "metadata": {
        "id": "ukCNJnf1V06-"
      },
      "source": [
        "Firstly, we set up our development environment by installing the go to Python libraries as follows:\n",
        "- **pandas:** For data manipulation and analysis, providing DataFrame structures\n",
        "- **numpy:** For complex numerical computations and array operations\n",
        "- **matplotlib:** Our main library for creating static visualizations and plots\n",
        "- Finaly, **seaborn:** built on top of matplotlib, for statistical graphics\n",
        "\n",
        "These packages are the foundation and required for our data analysis and must be installed before we can proceed with any analysis."
      ]
    },
    {
      "cell_type": "code",
      "execution_count": null,
      "metadata": {
        "id": "1heUacQaN1go"
      },
      "outputs": [],
      "source": [
        "# !pip install pandas\n",
        "# !pip install numpy\n",
        "# !pip install matplotlib\n",
        "# !pip install seaborn"
      ]
    },
    {
      "cell_type": "markdown",
      "metadata": {
        "id": "2NBbB9GXWDU2"
      },
      "source": [
        "Now, let's import our required libraries with some standard aliases:\n",
        "- **pandas** as **pd**: For structured data operations\n",
        "- **numpy** as **np**: For numerical computations\n",
        "- **matplotlib.pyplot** as **plt**: For creating visualizations\n",
        "- **seaborn** as **sns**: For statistical visualizations\n",
        "- **pickle**: To handle the given **.dat** file, serialized python objects\n",
        "- **datetime**: For working with dates and times\n",
        "\n",
        "Using these standard aliases (pd, np, plt, sns) for Python best practices, more readable, and consistency across our differnt cells."
      ]
    },
    {
      "cell_type": "code",
      "execution_count": null,
      "metadata": {
        "id": "DLXa3tS1OdKV"
      },
      "outputs": [],
      "source": [
        "import pandas as pd\n",
        "import numpy as np\n",
        "import matplotlib.pyplot as plt\n",
        "import seaborn as sns\n",
        "import pickle\n",
        "from datetime import datetime"
      ]
    },
    {
      "cell_type": "markdown",
      "metadata": {
        "id": "6TZsaoqCWIK8"
      },
      "source": [
        "**Next,** let's define our **object-oriented structure** for handling car data. We create a **base Car** class with essential attributes (date, model, company, type, rating, price, and mileage.) and then extend it to create specialized classes for different car types (**ElectricCar**, **NonElectricCar**) and manufacturers (Tesla, Ford, BMW)."
      ]
    },
    {
      "cell_type": "code",
      "execution_count": null,
      "metadata": {
        "id": "9GYIX3pEQPRf"
      },
      "outputs": [],
      "source": [
        "class Car:\n",
        "    def __init__(self, date, model, company, type, rating, price, mileage):\n",
        "        self.date = date\n",
        "        self.model = model\n",
        "        self.company = company\n",
        "        self.type = type\n",
        "        self.rating = rating\n",
        "        self.price = price\n",
        "        self.mileage = mileage\n",
        "        self.unique_id = id(self)\n",
        "\n",
        "    def __str__(self):\n",
        "        return f\"{self.unique_id},{self.date},{self.model},{self.company},{self.type},{self.rating},{self.price},{self.mileage}\"\n",
        "\n",
        "class ElectricCar(Car):\n",
        "    def __init__(self, date, model, company, rating, price, mileage):\n",
        "        super().__init__(date, model, company, \"Electric\", rating, price, mileage)\n",
        "\n",
        "class NonElectricCar(Car):\n",
        "    def __init__(self, date, model, company, rating, price, mileage):\n",
        "        super().__init__(date, model, company, \"non-Electric\", rating, price, mileage)\n",
        "\n",
        "class Tesla(ElectricCar):\n",
        "    def __init__(self, date, model, rating, price, mileage):\n",
        "        super().__init__(date, model, \"Tesla\", rating, price, mileage)\n",
        "\n",
        "class Ford(NonElectricCar):\n",
        "    def __init__(self, date, model, rating, price, mileage):\n",
        "        super().__init__(date, model, \"Ford\", rating, price, mileage)\n",
        "\n",
        "class BMW(NonElectricCar):\n",
        "    def __init__(self, date, model, rating, price, mileage):\n",
        "        super().__init__(date, model, \"BMW\", rating, price, mileage)"
      ]
    },
    {
      "cell_type": "markdown",
      "metadata": {
        "id": "CbytbUMRWapE"
      },
      "source": [
        "Now, creating **load_and_process_data** function handles our data. It reads a **pickle file** containing car objects, converts it to **CSV** format, and then loads it into a **pandas DataFrame**.\n",
        "\n",
        "Next, we are also pefroming some basic data cleaning by handling missing values and converting data types appropriately, and print the summary of our processed data, including total records and any missing values."
      ]
    },
    {
      "cell_type": "code",
      "execution_count": null,
      "metadata": {
        "id": "Wr9kyODaQ6KB"
      },
      "outputs": [],
      "source": [
        "def load_and_process_data(dat_file_path):\n",
        "    # Loading pickle file\n",
        "    with open(dat_file_path, 'rb') as f:\n",
        "        objects = pickle.load(f)\n",
        "\n",
        "    # Create CSV file\n",
        "    with open('car_data.csv', 'w') as f:\n",
        "        f.write(\"unique_id,date,model,company,type,rating,price,mileage\\n\")\n",
        "        for obj in objects:\n",
        "            f.write(str(obj) + '\\n')\n",
        "\n",
        "    # CSV File into a DataFrame df\n",
        "    df = pd.read_csv('car_data.csv')\n",
        "\n",
        "    # Handling the missing and invalid values before type conversion, and replacing NaN values in rating with the mode (most common value)\n",
        "    df['rating'] = df['rating'].fillna(df['rating'].mode()[0])\n",
        "\n",
        "    # Converting the data types after handling NaN values\n",
        "    df['price'] = pd.to_numeric(df['price'], errors='coerce').fillna(df['price'].median())\n",
        "    df['mileage'] = pd.to_numeric(df['mileage'], errors='coerce').fillna(df['mileage'].median())\n",
        "    df['rating'] = pd.to_numeric(df['rating'], errors='coerce').fillna(df['rating'].mode()[0]).astype(int)\n",
        "    df['date'] = pd.to_datetime(df['date'], errors='coerce')\n",
        "\n",
        "    # Printing the summary of the data\n",
        "    print(\"\\nData Summary:\")\n",
        "    print(f\"Total records: {len(df)}\")\n",
        "    print(\"\\nMissing values after processing:\")\n",
        "    print(df.isnull().sum())\n",
        "\n",
        "    return df"
      ]
    },
    {
      "cell_type": "markdown",
      "metadata": {
        "id": "ocpRp7r6xva0"
      },
      "source": [
        "**Test the data loading**"
      ]
    },
    {
      "cell_type": "code",
      "execution_count": null,
      "metadata": {
        "id": "G-WgCLpOQ8Pc"
      },
      "outputs": [],
      "source": [
        "print(\"Data Loading and processing...\")\n",
        "df = load_and_process_data('/content/Carpkl638250104.dat')"
      ]
    },
    {
      "cell_type": "markdown",
      "metadata": {
        "id": "S54aHN9wWxFp"
      },
      "source": [
        "Next, so far we have handled the pickle file, converted into .csv, and have also performed some basic data cleaning part as well.\n",
        "\n",
        "Therefore, now let's analyze missing values in our dataset and handle them using some methods like **mode** for ratings (most common value), **median** for prices, and **mean** for mileage."
      ]
    },
    {
      "cell_type": "code",
      "execution_count": null,
      "metadata": {
        "id": "npbEzwX3Q-EE"
      },
      "outputs": [],
      "source": [
        "# Data Cleaning\n",
        "print(\"\\n# Data Overview and Cleaning\")\n",
        "print(\"\\n## Missing Values Analysis:\")\n",
        "print(df.isnull().sum())\n",
        "\n",
        "# Handle missing values\n",
        "df = df.copy()\n",
        "df['rating'] = df['rating'].fillna(df['rating'].mode()[0])\n",
        "df['price'] = df['price'].fillna(df['price'].median())\n",
        "df['mileage'] = df['mileage'].fillna(df['mileage'].mean())"
      ]
    },
    {
      "cell_type": "markdown",
      "metadata": {
        "id": "IXazCY3TrRpp"
      },
      "source": [
        "Let's verifying that all missing values have properly been handled."
      ]
    },
    {
      "cell_type": "code",
      "execution_count": null,
      "metadata": {
        "id": "Vzo2HjNqrOTo"
      },
      "outputs": [],
      "source": [
        "print(\"\\n## Missing Values After Cleaning:\")\n",
        "print(df.isnull().sum())"
      ]
    },
    {
      "cell_type": "markdown",
      "metadata": {
        "id": "jx7rphTarnCU"
      },
      "source": [
        "We can see **399 records** as missing value of date column, thefore, let's handle missing dates in our car dataset to ensure no missing dates are presents:\n",
        "\n",
        "Let's use the median date imputation against the outliers by:\n",
        "  1. Converting date strings to datetime format\n",
        "  2. Finding the median date\n",
        "  3. Filling missing values with the median"
      ]
    },
    {
      "cell_type": "code",
      "execution_count": null,
      "metadata": {
        "id": "qt6_ybvmrKe3"
      },
      "outputs": [],
      "source": [
        "df['date'] = pd.to_datetime(df['date'], errors='coerce')\n",
        "\n",
        "median_date = df['date'].median()\n",
        "\n",
        "df['date'] = df['date'].fillna(median_date)"
      ]
    },
    {
      "cell_type": "markdown",
      "metadata": {
        "id": "5fU-hdADW-g1"
      },
      "source": [
        "We are now verifying that all missing values have properly been handled to ensure our data accuricy and quality."
      ]
    },
    {
      "cell_type": "code",
      "execution_count": null,
      "metadata": {
        "collapsed": true,
        "id": "G1I2bKkOQ_1Z"
      },
      "outputs": [],
      "source": [
        "print(\"\\n## Missing Values After Cleaning:\")\n",
        "print(df.isnull().sum())"
      ]
    },
    {
      "cell_type": "markdown",
      "metadata": {
        "id": "VyrAo9UNXdk5"
      },
      "source": [
        "After cleaning and processing our data, next handling data storage/saving in two formats:\n",
        "1. **CSV** format ('**cleaned_car_data.csv**'):\n",
        "   - Creating a human-readable spreadsheet format\n",
        "   - Ideal for sharing data with non-technical team members\n",
        "\n",
        "2. **Pickle** format ('**cleaned_car_data.pkl**'):\n",
        "   - Storing Python objects with their data types and structures\n",
        "   - Maintaining data integrity for future Python analysis\n",
        "\n",
        "Exporting in two format to ensure our cleaned data is both accessible and reusable for different purposes."
      ]
    },
    {
      "cell_type": "code",
      "execution_count": null,
      "metadata": {
        "colab": {
          "base_uri": "https://localhost:8080/"
        },
        "id": "G_29XmaHRBZN",
        "outputId": "13650f5b-3b7a-454f-b33f-cb92a97a0665"
      },
      "outputs": [
        {
          "name": "stdout",
          "output_type": "stream",
          "text": [
            "\n",
            "Cleaned data has been saved to 'cleaned_car_data.csv'\n",
            "Cleaned data has also been saved to 'cleaned_car_data.pkl'\n"
          ]
        }
      ],
      "source": [
        "df.to_csv('cleaned_car_data.csv', index=False)\n",
        "print(\"\\nCleaned data has been saved to 'cleaned_car_data.csv'\")\n",
        "\n",
        "df.to_pickle('cleaned_car_data.pkl')\n",
        "print(\"Cleaned data has also been saved to 'cleaned_car_data.pkl'\")"
      ]
    },
    {
      "cell_type": "markdown",
      "metadata": {
        "id": "dCiQjBfQXlHK"
      },
      "source": [
        "### Now that, we're done with data loading, converting into csv, basic cleaning, handing outliers, and preserving the final files in two different format. Let's, create the visualizations to analyze different aspects of our car data using the following:\n",
        "\n",
        "- **Bar chart:** Showing average car prices by company\n",
        "- **Box plot:** Displaying price distribution across companies\n",
        "- **Line plot:** Tracking price trends over time\n",
        "- **Scatter plot:** Examining relationship between price and mileage\n",
        "- **Heatmap:** Visualizing relationships between companies, car types, and ratings\n",
        "- **Histogram:** Showing the distribution of car prices\n",
        "- **Pie chart:** Illustrating market share by company\n",
        "\n",
        "**Additinally,** we're also saving the each visualization as a PNG file for later use in reports or presentations."
      ]
    },
    {
      "cell_type": "markdown",
      "metadata": {
        "id": "qhh1hxeivUnW"
      },
      "source": [
        "# **`Bar Chart`**"
      ]
    },
    {
      "cell_type": "code",
      "execution_count": null,
      "metadata": {
        "id": "dc_7JEw2RDKm"
      },
      "outputs": [],
      "source": [
        "plt.figure(figsize=(10, 6))\n",
        "\n",
        "avg_price_by_company = df.groupby('company')['price'].mean().sort_values(ascending=False)\n",
        "avg_price_by_company.plot(kind='bar')\n",
        "plt.title('Average Car Price by Company')\n",
        "plt.xlabel('Company')\n",
        "plt.ylabel('Average Price ($)')\n",
        "plt.xticks(rotation=45)\n",
        "plt.tight_layout()\n",
        "plt.savefig('bar_chart.png')\n",
        "\n",
        "plt.show()"
      ]
    },
    {
      "cell_type": "markdown",
      "metadata": {
        "id": "spNJuDCn_j_Y"
      },
      "source": [
        "The above bar Chart (Average Price by Company), all three companies shows similar average prices around **$11,000-$12,000**, with a minor variation between them. This suggests competitive pricing strategies despite different market positioning."
      ]
    },
    {
      "cell_type": "markdown",
      "metadata": {
        "id": "V2XkTc-OvaKL"
      },
      "source": [
        "# **`Box Plot`**"
      ]
    },
    {
      "cell_type": "code",
      "execution_count": null,
      "metadata": {
        "id": "KNFEQ1KaRElH"
      },
      "outputs": [],
      "source": [
        "plt.figure(figsize=(10, 6))\n",
        "\n",
        "sns.boxplot(x='company', y='price', data=df)\n",
        "plt.title('Price Distribution by Company')\n",
        "plt.xlabel('Company')\n",
        "plt.ylabel('Price ($)')\n",
        "plt.xticks(rotation=45)\n",
        "plt.tight_layout()\n",
        "plt.savefig('box_plot.png')\n",
        "\n",
        "plt.show()"
      ]
    },
    {
      "cell_type": "markdown",
      "metadata": {
        "id": "IkfS-K2jBrWD"
      },
      "source": [
        "it shows, similar median prices USD 11,000 across companies with comparable price ranges USD 2500 - USD 20,000. All companies show some high-end outliers near $20,000, indicating premium models across all brands."
      ]
    },
    {
      "cell_type": "markdown",
      "metadata": {
        "id": "OuqR1IgTvpi3"
      },
      "source": [
        "# **`Line Plot`**"
      ]
    },
    {
      "cell_type": "code",
      "execution_count": null,
      "metadata": {
        "id": "vtcFRbKeRGGh"
      },
      "outputs": [],
      "source": [
        "plt.figure(figsize=(12, 6))\n",
        "\n",
        "monthly_prices = df.groupby(df['date'].dt.to_period('M'))['price'].mean()\n",
        "monthly_prices.plot(kind='line', marker='o')\n",
        "plt.title('Average Car Price Trend Over Time')\n",
        "plt.xlabel('Month')\n",
        "plt.ylabel('Average Price ($)')\n",
        "plt.grid(True)\n",
        "plt.tight_layout()\n",
        "plt.savefig('line_plot.png')\n",
        "\n",
        "plt.show()"
      ]
    },
    {
      "cell_type": "markdown",
      "metadata": {
        "id": "pVnwh5ojCh2i"
      },
      "source": [
        "Based out the line chart, we can observe that the Prices started around USD 11, 500 in January, hit a summer peak in July, took a dip in September which could probaly be due to end of model year sales maybe, and then raised up back in December to about USD 13,000."
      ]
    },
    {
      "cell_type": "markdown",
      "metadata": {
        "id": "b8Mnmbdyvtj-"
      },
      "source": [
        "# **`Scatter Plot`**"
      ]
    },
    {
      "cell_type": "code",
      "execution_count": null,
      "metadata": {
        "id": "vNtGuiTiRHeI"
      },
      "outputs": [],
      "source": [
        "plt.figure(figsize=(10, 6))\n",
        "\n",
        "sns.scatterplot(data=df, x='mileage', y='price', hue='company', alpha=0.6)\n",
        "plt.title('Price vs Mileage by Company')\n",
        "plt.xlabel('Mileage')\n",
        "plt.ylabel('Price ($)')\n",
        "plt.tight_layout()\n",
        "plt.savefig('scatter_plot.png')\n",
        "plt.show()"
      ]
    },
    {
      "cell_type": "markdown",
      "metadata": {
        "id": "KcPaIb_MDqTX"
      },
      "source": [
        "The scatter plot shows no strong correlation between price and mileage across all companies. Points are fairly equally distributed between **USD 2500** - **USD 20, 000** and **60, 000** - **100, 000** miles.\n",
        "\n",
        "All three manufacturers shows similar price mileage distributiions, speculating that the mileasge is infuluencing the pricing significantly."
      ]
    },
    {
      "cell_type": "markdown",
      "metadata": {
        "id": "JBwU4HYSwfJA"
      },
      "source": [
        "# **`Histogram`**"
      ]
    },
    {
      "cell_type": "code",
      "execution_count": null,
      "metadata": {
        "id": "eQegTw5T25ub"
      },
      "outputs": [],
      "source": [
        "# Set figure size\n",
        "plt.figure(figsize=(12, 6))\n",
        "\n",
        "# Create histogram\n",
        "frequency, price_ranges, bars = plt.hist(df['price'],\n",
        "                                       bins=20,\n",
        "                                       edgecolor='black',\n",
        "                                       rwidth=0.8)\n",
        "\n",
        "# Add car model labels for each price range\n",
        "for price_index in range(len(price_ranges)-1):\n",
        "    price_min = price_ranges[price_index]\n",
        "    price_max = price_ranges[price_index+1]\n",
        "    cars_in_range = df[(df['price'] >= price_min) & (df['price'] < price_max)]\n",
        "\n",
        "    car_descriptions = cars_in_range.apply(\n",
        "        lambda car: f\"{car['company']} - {car['model']}\",\n",
        "        axis=1\n",
        "    ).unique()\n",
        "\n",
        "    if len(car_descriptions) > 0:\n",
        "        price_center = (price_min + price_max)/2\n",
        "        car_label = car_descriptions[0] if len(car_descriptions) == 1 else f\"{car_descriptions[0]}\\n{car_descriptions[1]}\"\n",
        "\n",
        "        plt.text(price_center,\n",
        "                frequency[price_index],\n",
        "                car_label,\n",
        "                ha='center',\n",
        "                va='bottom',\n",
        "                rotation=90,\n",
        "                fontsize=8)\n",
        "\n",
        "plt.title('Car Price Distribution')\n",
        "plt.xlabel('Price ($)')\n",
        "plt.ylabel('Frequency')\n",
        "plt.tight_layout()\n",
        "plt.savefig('histogram_plot.png')\n",
        "plt.show()"
      ]
    },
    {
      "cell_type": "markdown",
      "metadata": {
        "id": "Q5PhixtAFDkJ"
      },
      "source": [
        "Looking at the price histogram, it tells that most cars revolves around $10,000 - including popular models like the Tesla Model Z and Ford F150s. wherease, some luxury cars like BMWs and top-end Teslas models are between USD 12,500- USD 20,000."
      ]
    },
    {
      "cell_type": "markdown",
      "metadata": {
        "id": "FGNjzeuAwq0W"
      },
      "source": [
        "# **`Pie Chart`**"
      ]
    },
    {
      "cell_type": "code",
      "execution_count": null,
      "metadata": {
        "id": "9XNbQRq8RPbo"
      },
      "outputs": [],
      "source": [
        "plt.figure(figsize=(10, 6))\n",
        "\n",
        "df['company'].value_counts().plot(kind='pie', autopct='%1.1f%%')\n",
        "plt.title('Market Share by Company')\n",
        "plt.ylabel('')\n",
        "plt.tight_layout()\n",
        "plt.savefig('pie_chart.png')\n",
        "\n",
        "plt.show()"
      ]
    },
    {
      "cell_type": "markdown",
      "metadata": {
        "id": "HVCckqcyGG2R"
      },
      "source": [
        "Here, Tesla and Ford are the big players, Tesla's leading with almost half the market at 49%, Ford's at 44.5%, while BMW's taking on a smaller portion 6.5%."
      ]
    },
    {
      "cell_type": "markdown",
      "metadata": {
        "id": "Zs54x5JbvyRf"
      },
      "source": [
        "# **`Categorical Heatmap`**\n",
        "\n",
        "Creating two related heatmaps side by side\n",
        "\n",
        "- Company vs type\n",
        "- Company vs rating"
      ]
    },
    {
      "cell_type": "code",
      "execution_count": null,
      "metadata": {
        "id": "iOG_zXUcRJ0P"
      },
      "outputs": [],
      "source": [
        "# Categorical Heatmap\n",
        "plt.figure(figsize=(12, 8))\n",
        "\n",
        "plt.subplot(1, 2, 1)\n",
        "\n",
        "# company vs type\n",
        "basic_heatmap = pd.crosstab(df['company'], df['type'])\n",
        "sns.heatmap(basic_heatmap,\n",
        "            annot=True,\n",
        "            fmt='d',\n",
        "            cmap='Blues',\n",
        "            cbar_kws={'label': 'Number of Cars'})\n",
        "plt.title('Cars by Company and Type')\n",
        "\n",
        "plt.subplot(1, 2, 2)\n",
        "\n",
        "# company vs ratings\n",
        "rating_heatmap = pd.crosstab(df['company'], df['rating'])\n",
        "sns.heatmap(rating_heatmap,\n",
        "            annot=True,\n",
        "            fmt='d',\n",
        "            cmap='YlOrRd',\n",
        "            cbar_kws={'label': 'Number of Cars'})\n",
        "plt.title('Cars by Company and Rating')\n",
        "\n",
        "plt.tight_layout()\n",
        "plt.savefig('comprehensive_heatmap.png')\n",
        "\n",
        "plt.show()"
      ]
    },
    {
      "cell_type": "markdown",
      "metadata": {
        "id": "hSYPqSSTG6YJ"
      },
      "source": [
        "Here, the left heatmap shows **Tesla** exclusively in electric **4,896 units** and **Ford** in non-electric **4,451 units**, while **BMW** having **653** non-electric vehicles.\n",
        "\n",
        "Wherease, the right heatmap, reveals that most cars rate **1-2** stars across all brands, with decreasing frequencies for higher ratings."
      ]
    },
    {
      "cell_type": "markdown",
      "metadata": {
        "id": "tLZfvXXGwxib"
      },
      "source": [
        "# **`Generate Analysis Report`**"
      ]
    },
    {
      "cell_type": "code",
      "execution_count": null,
      "metadata": {
        "id": "xDuxnVMeRScz"
      },
      "outputs": [],
      "source": [
        "print(\"\\n# Data Analysis Documentation\")\n",
        "\n",
        "print(\"\\n## Introduction\")\n",
        "print(f\"This dataset contains information about {len(df)} cars from various manufacturers listed on an auction website. \"\n",
        "      f\"The data includes both electric and non-electric vehicles from {df['company'].nunique()} different companies.\")\n",
        "\n",
        "print(\"\\n## Data Types:\")\n",
        "print(\"- unique_id: Unique identifier for each car\")\n",
        "print(\"- date: Manufacturing date (datetime)\")\n",
        "print(\"- model: Car model name (categorical)\")\n",
        "print(\"- company: Manufacturer name (categorical)\")\n",
        "print(\"- type: Electric or non-Electric (categorical)\")\n",
        "print(\"- rating: Customer rating 1-5 (ordinal)\")\n",
        "print(\"- price: Car price in USD (numerical)\")\n",
        "print(\"- mileage: Car mileage in miles (numerical)\")"
      ]
    },
    {
      "cell_type": "markdown",
      "metadata": {
        "id": "MRV7G1tvw5n2"
      },
      "source": [
        "# **`Data Analysis Results`**"
      ]
    },
    {
      "cell_type": "code",
      "execution_count": null,
      "metadata": {
        "id": "nYn7PB1BRT38"
      },
      "outputs": [],
      "source": [
        "print(\"\\n## Data Trends Analysis:\")\n",
        "\n",
        "print(\"\\n### 1. Bar Chart Analysis:\")\n",
        "print(\"Average price comparison between manufacturers:\")\n",
        "print(avg_price_by_company)\n",
        "\n",
        "print(\"\\n### 2. Box Plot Analysis:\")\n",
        "print(\"Price distribution statistics by company:\")\n",
        "print(df.groupby('company')['price'].describe())\n",
        "\n",
        "print(\"\\n### 3. Line Plot Analysis:\")\n",
        "print(\"Monthly price trends:\")\n",
        "print(monthly_prices)\n",
        "\n",
        "print(\"\\n### 4. Scatter Plot Analysis:\")\n",
        "print(\"Correlation between price and mileage:\")\n",
        "print(f\"Correlation coefficient: {df['price'].corr(df['mileage']):.2f}\")"
      ]
    },
    {
      "cell_type": "markdown",
      "metadata": {
        "id": "AQ03C8XkXxkU"
      },
      "source": [
        "### **`Detailed analysis report.`**\n",
        "\n",
        "Now, let's document our dataset structure, presenting key findings from our visualizations, and providing statistical insights about car prices, ratings, and trends.\n",
        "\n",
        "The analysis report concludes with practical recommendations for future data collection and analysis improvements."
      ]
    },
    {
      "cell_type": "code",
      "execution_count": null,
      "metadata": {
        "id": "QEtXmrJQRW4R"
      },
      "outputs": [],
      "source": [
        "print(\"\\n## Conclusion:\")\n",
        "\n",
        "avg_price = df['price'].mean()\n",
        "avg_rating = df['rating'].mean()\n",
        "\n",
        "print(f\"The analysis of {len(df)} cars reveals an average price of ${avg_price:,.2f} \"\n",
        "      f\"and an average rating of {avg_rating:.1f}/5. \"\n",
        "      f\"The data shows distinct patterns in pricing and preferences across different manufacturers.\")\n",
        "\n",
        "print(\"\\n## Recommendations:\")\n",
        "print(\"To improve future analyses, consider:\")\n",
        "print(\"1. Including more detailed vehicle specifications\")\n",
        "print(\"2. Adding historical service records\")\n",
        "print(\"3. Including more manufacturers for broader market coverage\")\n",
        "print(\"4. Adding seasonal factors that might affect prices\")\n",
        "print(\"5. Including geographical data to analyze regional price variations\")"
      ]
    }
  ],
  "metadata": {
    "colab": {
      "provenance": []
    },
    "kernelspec": {
      "display_name": "Python 3",
      "name": "python3"
    },
    "language_info": {
      "name": "python"
    }
  },
  "nbformat": 4,
  "nbformat_minor": 0
}
